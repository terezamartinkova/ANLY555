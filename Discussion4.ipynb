{
 "cells": [
  {
   "attachments": {},
   "cell_type": "markdown",
   "metadata": {},
   "source": [
    "### Student: Tereza Martinkova\n",
    "### Class: ANLY 555-01\n",
    "### Date: March 19, 2023"
   ]
  },
  {
   "attachments": {},
   "cell_type": "markdown",
   "metadata": {},
   "source": [
    "Consider the following. A matrix of size mxn will require mn memory buckets to store mn elements. Thus all resulting operations on the matrix will be affected by this standard but restrictive representation. For example matrix addition will require mn time proportionally. This is reasonable in many cases, however, consider cases where a matrix is very sparse. A sparse matrix is a matrix where the majority of the entries are zero. In this case, traversing all mn entries is unncessary and thus computationally inefficient. We need only add non-zero elements. \n",
    "\n",
    "You are tasked with designing a Spare Matrix Class which supports matrix addition.  Your goal -- make as efficient as you can!! Consider both space complexity and time complexity. \n",
    "\n",
    "Implement the SparseMatrix Class using Pseudo-code or Python code. Please code from \"scratch\" -- do not use others code.\n",
    "Assuming that two SparseMatrices (A and B) are compatible for addition, and both are m x n, derive a Step Count Function T(n) and Space Count Function S(n). You can assume the number of non-zero entries in A is a and the number of non-zero entries in B is b.\n",
    "Do this for both the best case and the worst case. Explain your counts line-by-line. Remember, the cases are determined by the value of the input and not the size of the input. \n",
    "Bounding.\n",
    "Determine a tight-fit upperbound using Big-O notation for both. \n",
    "Explain and justify why you believe this is an efficient solution.\n",
    "Respond to at least 2 classmates and provide feedback"
   ]
  },
  {
   "cell_type": "code",
   "execution_count": 26,
   "metadata": {},
   "outputs": [],
   "source": [
    "class SparseMatrix:\n",
    "    def __init__(self, r, c):\n",
    "        \"\"\"Matrix will intake r number of rows and c number of columns\"\"\"\n",
    "        #setting number of rows\n",
    "        self.r = r\n",
    "        #setting number of columns \n",
    "        self.c = c\n",
    "        # creating empty dicionary to store non-zero outputs\n",
    "        self.output = {}\n",
    "\n",
    "\n",
    "    # Setting boundaries for values in dictionary \n",
    "    def __getitem__(self, num):\n",
    "        # Assigning input values\n",
    "        a, b = num\n",
    "        #If values outside the range, raise value errir\n",
    "        if a >= self.r or b >= self.c:\n",
    "            raise ValueError (\"Attempting input with invalid index\")\n",
    "        # return ductionary of input values\n",
    "        return self.output.get((a, b), 0)\n",
    "\n",
    "\n",
    "\n",
    "\n",
    "    def __setitem__(self, num, val):\n",
    "        # Reset number values\n",
    "        a, b = num\n",
    "        #Set boundaries for rows and columns value input\n",
    "        if a >= self.r or b >= self.c:\n",
    "            raise ValueError (\"Attempting input with invalid index\")\n",
    "        # if value is 0, delet object \n",
    "        if val == 0: \n",
    "            if (a,b) in self.output:\n",
    "                del self.output[(a,b)]\n",
    "        # else assign it to value\n",
    "        else:\n",
    "            self.output[(a,b)] = val\n",
    "\n",
    "\n",
    "    # Appending values\n",
    "    def __add__(self, matrix):\n",
    "        # If values not in matrix r or matrix c, raise error\n",
    "        if self.r != matrix.r or self.c != matrix.c:\n",
    "            raise ValueError (\"Attempting input with invalid index\")\n",
    "        # create matrix containg number of rows and columns\n",
    "        final = SparseMatrix(self.r, self.c)\n",
    "\n",
    "        #Iterate over a and b to set values for number of rows and columns\n",
    "        for a in range(self.r):\n",
    "            for b in range(self.c):\n",
    "                #Add values of two matrices together\n",
    "                val=self[a,b] + matrix[a,b]\n",
    "                if val != 0:\n",
    "                    final[a,b] = val\n",
    "        #Return added value\n",
    "        return final\n",
    "\n",
    "\n",
    "\n",
    "\n"
   ]
  },
  {
   "cell_type": "code",
   "execution_count": 40,
   "metadata": {},
   "outputs": [],
   "source": [
    "# Setting matrix values\n",
    "matrix1 = SparseMatrix(40,65)\n",
    "matrix2 = SparseMatrix(80,94)\n",
    "matrix1[10, 10]=20\n",
    "matrix1[12, 50]=21\n",
    "matrix1[18, 5]=64"
   ]
  },
  {
   "cell_type": "code",
   "execution_count": 41,
   "metadata": {},
   "outputs": [
    {
     "name": "stdout",
     "output_type": "stream",
     "text": [
      "<__main__.SparseMatrix object at 0x117062d40>\n"
     ]
    }
   ],
   "source": [
    "#Checking if matrices get added\n",
    "m = matrix1+matrix1\n",
    "print(m)"
   ]
  },
  {
   "cell_type": "code",
   "execution_count": 42,
   "metadata": {},
   "outputs": [
    {
     "ename": "ValueError",
     "evalue": "Attempting input with invalid index",
     "output_type": "error",
     "traceback": [
      "\u001b[0;31m---------------------------------------------------------------------------\u001b[0m",
      "\u001b[0;31mValueError\u001b[0m                                Traceback (most recent call last)",
      "Cell \u001b[0;32mIn[42], line 2\u001b[0m\n\u001b[1;32m      1\u001b[0m \u001b[39m# Checking if value error is raised \u001b[39;00m\n\u001b[0;32m----> 2\u001b[0m matrix1\u001b[39m+\u001b[39;49mmatrix2\n",
      "Cell \u001b[0;32mIn[26], line 38\u001b[0m, in \u001b[0;36mSparseMatrix.__add__\u001b[0;34m(self, matrix)\u001b[0m\n\u001b[1;32m     35\u001b[0m \u001b[39mdef\u001b[39;00m \u001b[39m__add__\u001b[39m(\u001b[39mself\u001b[39m, matrix):\n\u001b[1;32m     37\u001b[0m     \u001b[39mif\u001b[39;00m \u001b[39mself\u001b[39m\u001b[39m.\u001b[39mr \u001b[39m!=\u001b[39m matrix\u001b[39m.\u001b[39mr \u001b[39mor\u001b[39;00m \u001b[39mself\u001b[39m\u001b[39m.\u001b[39mc \u001b[39m!=\u001b[39m matrix\u001b[39m.\u001b[39mc:\n\u001b[0;32m---> 38\u001b[0m         \u001b[39mraise\u001b[39;00m \u001b[39mValueError\u001b[39;00m (\u001b[39m\"\u001b[39m\u001b[39mAttempting input with invalid index\u001b[39m\u001b[39m\"\u001b[39m)\n\u001b[1;32m     40\u001b[0m     final \u001b[39m=\u001b[39m SparseMatrix(\u001b[39mself\u001b[39m\u001b[39m.\u001b[39mr, \u001b[39mself\u001b[39m\u001b[39m.\u001b[39mc)\n\u001b[1;32m     42\u001b[0m     \u001b[39mfor\u001b[39;00m a \u001b[39min\u001b[39;00m \u001b[39mrange\u001b[39m(\u001b[39mself\u001b[39m\u001b[39m.\u001b[39mr):\n",
      "\u001b[0;31mValueError\u001b[0m: Attempting input with invalid index"
     ]
    }
   ],
   "source": [
    "# Checking if value error is raised \n",
    "matrix1+matrix2"
   ]
  },
  {
   "attachments": {},
   "cell_type": "markdown",
   "metadata": {},
   "source": [
    "### Step count Function T(n)\n",
    "\n",
    "#### Best Case\n",
    "O(r+c) \n",
    "Looping through matrices only\n",
    "\n",
    "#### Worst Case\n",
    "O(ab) \n",
    "- Looping through everything"
   ]
  },
  {
   "attachments": {},
   "cell_type": "markdown",
   "metadata": {},
   "source": [
    "### Space count Function S(n)\n",
    "\n",
    "#### Best Case\n",
    "O(r+c) \n",
    "Stores all non-zero elements\n",
    "\n",
    "#### Worst Case\n",
    "O(max(ab)) \n",
    "Stores all elemeents"
   ]
  }
 ],
 "metadata": {
  "kernelspec": {
   "display_name": "anly503",
   "language": "python",
   "name": "python3"
  },
  "language_info": {
   "codemirror_mode": {
    "name": "ipython",
    "version": 3
   },
   "file_extension": ".py",
   "mimetype": "text/x-python",
   "name": "python",
   "nbconvert_exporter": "python",
   "pygments_lexer": "ipython3",
   "version": "3.10.8"
  },
  "orig_nbformat": 4
 },
 "nbformat": 4,
 "nbformat_minor": 2
}
