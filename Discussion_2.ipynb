{
 "cells": [
  {
   "cell_type": "raw",
   "id": "8e31ae17",
   "metadata": {},
   "source": [
    "Implement a Matrix class that allows for matrix addition and multiplication. Make reasonable and appropriate design decisions and justify them in comments or in the discussion board. (If addition and multiplication are undefined, then throw an exception.)\n",
    "You will implement operator overloading so that the '+' and '*' symbols can be used. \n",
    "Implement a Vector class that inherets from the Matrix class. It will inheret addition and multiplication (inner product) but will also have a multiplication method for an outer product (choose an intuitive symbol). (If addition and multiplication are undefined due to size mismatch, then throw an exception.)"
   ]
  },
  {
   "cell_type": "raw",
   "id": "3472f546",
   "metadata": {},
   "source": [
    "Student: Tereza Martinkova\n",
    "Class: ANLY 555/01\n",
    "Date: 2/1/23\n",
    "Assignemnt: Discussion 2"
   ]
  },
  {
   "cell_type": "code",
   "execution_count": 1,
   "id": "ea06321a",
   "metadata": {},
   "outputs": [],
   "source": [
    "class Matrix:\n",
    "    \n",
    "    def __init__(self,m):\n",
    "        self.matrix = m\n",
    "    \n",
    "    def __add__(self, other):\n",
    "        if len(self.matrix) != len(other.matrix): \n",
    "            raise Exception('Number of rows and columns must match')\n",
    "        else:\n",
    "            new_matrix = []\n",
    "            for i in range(len(self.matrix)):\n",
    "                row = []\n",
    "                for j in range(len(self.matrix[0])):\n",
    "                    row.append(self.matrix[i][j]+other.matrix[i][j])\n",
    "                new_matrix.append(row)\n",
    "            return Matrix(new_matrix)\n",
    "    \n",
    "    def __mul__(self, other):\n",
    "        if len(self.matrix) != len(other.matrix): \n",
    "            raise Exception('Number of rows and columns must match')\n",
    "        else:\n",
    "            new_matrix = []\n",
    "            for i in range(len(self.matrix[0])):\n",
    "                row = []\n",
    "                for j in range(len(self.matrix[0])):\n",
    "                    val = 0\n",
    "                    for k in range(len(self.matrix[0])):\n",
    "                        val += self.matrix[i][k]*other.matrix[k][j]\n",
    "                    row.append(val)\n",
    "                new_matrix.append(row)\n",
    "            return Matrix(new_matrix)\n",
    "        \n",
    "    def __str__(self):\n",
    "        return str(self.matrix)"
   ]
  },
  {
   "cell_type": "code",
   "execution_count": 2,
   "id": "5dde4a1c",
   "metadata": {},
   "outputs": [],
   "source": [
    "class Vector(Matrix):\n",
    "    def __init__(self,matrix):\n",
    "        super().__init__(matrix)\n",
    "        \n",
    "    def __pow__(self, other):\n",
    "        if len(self.matrix) != len(other.matrix): \n",
    "            raise Exception('Number of rows and columns must match')\n",
    "        else:\n",
    "            new_vector = []\n",
    "            for i in range(len(self.matrix)):\n",
    "                val = 0\n",
    "                for j in range(len(self.matrix[0])):\n",
    "                    val += self.matrix[i][j]*other.matrix[i][j]\n",
    "                    new_vector.append(val)\n",
    "            return Vector(new_vector)\n",
    "        \n",
    "    def __str__(self):\n",
    "        return str(self.matrix[0])\n",
    "    "
   ]
  },
  {
   "cell_type": "code",
   "execution_count": 3,
   "id": "8156bf99",
   "metadata": {},
   "outputs": [
    {
     "name": "stdout",
     "output_type": "stream",
     "text": [
      "[[6, 8], [10, 12]]\n",
      "[[19, 22], [43, 50]]\n"
     ]
    }
   ],
   "source": [
    "if __name__ == '__main__':\n",
    "    \n",
    "    Matrix_a=[1,2],[3,4]\n",
    "    Matrix_b=[5,6],[7,8]\n",
    "     \n",
    "    a= Vector(Matrix_a)\n",
    "    b= Vector(Matrix_b)\n",
    "    \n",
    "    # Addition\n",
    "    u = a + b\n",
    "    print(u)\n",
    "    \n",
    "    # Multiplication\n",
    "    x = a * b\n",
    "    print(x)"
   ]
  }
 ],
 "metadata": {
  "kernelspec": {
   "display_name": "Python 3 (ipykernel)",
   "language": "python",
   "name": "python3"
  },
  "language_info": {
   "codemirror_mode": {
    "name": "ipython",
    "version": 3
   },
   "file_extension": ".py",
   "mimetype": "text/x-python",
   "name": "python",
   "nbconvert_exporter": "python",
   "pygments_lexer": "ipython3",
   "version": "3.9.13"
  }
 },
 "nbformat": 4,
 "nbformat_minor": 5
}
