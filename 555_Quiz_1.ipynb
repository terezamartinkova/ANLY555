{
 "cells": [
  {
   "cell_type": "markdown",
   "id": "ad13a92a",
   "metadata": {},
   "source": [
    "## Question 1: \n",
    "#### Using Python define a  generator function Fib() ,  which uses the keyword 'yield'  that computes the Fibonacci Sequence. The Fibonacci Sequence is 0, 1, 1, 2, 3, 5, ... "
   ]
  },
  {
   "cell_type": "code",
   "execution_count": null,
   "id": "2e1bf79e",
   "metadata": {},
   "outputs": [],
   "source": [
    "#Question 1\n",
    "\n",
    "# select number of iterations\n",
    "numTerms = 1000\n",
    "\n",
    "# create the Fibonacci function\n",
    "def Fib():\n",
    "    # where first character is 0 \n",
    "    first=0\n",
    "    # and second character is 1\n",
    "    second=1\n",
    "    \n",
    "    # create a while loop that will yield the first character\n",
    "    while True:\n",
    "        yield first\n",
    "        # every next term will be the sum of previous two terms\n",
    "        nextTerm = first + second\n",
    "        # new first term will become the original second term\n",
    "        first = second\n",
    "        # new second term will become the sum of the previous two terms\n",
    "        second = nextTerm\n",
    "\n",
    "# create a for loop that iterates over the number selected originally as number of iterations        \n",
    "for i in Fib():\n",
    "    if i>numTerms:\n",
    "        # the loop will break once it reaches the number of Terms selected originally \n",
    "        break\n",
    "    # print the values in the sequence\n",
    "    print(i)"
   ]
  },
  {
   "cell_type": "markdown",
   "id": "3b76c43e",
   "metadata": {},
   "source": [
    "## Question 2\n",
    "#### The following assignment statement creates a binding which is a(n) _________________.\n",
    "\n",
    "#### a = (1,2,3)\n",
    "\n",
    "#### b = a\n",
    "\n",
    "### Answer = Alias"
   ]
  },
  {
   "cell_type": "markdown",
   "id": "c71b3a6e",
   "metadata": {},
   "source": [
    "## Question 3\n",
    "#### In python, use comprehension syntax to compute the first 10 elements of the Fibonacci Sequence, i.e. 0, 1, 1, 2, 3, 5, ... "
   ]
  },
  {
   "cell_type": "code",
   "execution_count": 6,
   "id": "0a7d6836",
   "metadata": {},
   "outputs": [
    {
     "name": "stdout",
     "output_type": "stream",
     "text": [
      "[0, 1, 1, 2, 3, 5, 8, 13, 21, 34]\n"
     ]
    }
   ],
   "source": [
    "# create a list with 0 and 1 as the first two values\n",
    "fib=[0,1]\n",
    "# create comprehension syntax to append new values to the original list \n",
    "# starting at 2, creating 10 values, where first one - 2 so it becomes 0\n",
    "# and the second one is - 1 so it becomes 1. \n",
    "[fib.append(fib[i-2]+fib[i-1]) for i in range(2,10)]\n",
    "# print the list\n",
    "print(fib)"
   ]
  }
 ],
 "metadata": {
  "kernelspec": {
   "display_name": "Python 3 (ipykernel)",
   "language": "python",
   "name": "python3"
  },
  "language_info": {
   "codemirror_mode": {
    "name": "ipython",
    "version": 3
   },
   "file_extension": ".py",
   "mimetype": "text/x-python",
   "name": "python",
   "nbconvert_exporter": "python",
   "pygments_lexer": "ipython3",
   "version": "3.9.13"
  }
 },
 "nbformat": 4,
 "nbformat_minor": 5
}
