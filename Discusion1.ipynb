{
 "cells": [
  {
   "cell_type": "markdown",
   "id": "7c043271",
   "metadata": {},
   "source": [
    "### Discussion 1"
   ]
  },
  {
   "cell_type": "raw",
   "id": "834c0c50",
   "metadata": {},
   "source": [
    "ANLY 555\n",
    "Tereza Martinkova\n",
    "Spring 2023"
   ]
  },
  {
   "cell_type": "markdown",
   "id": "cab4d72d",
   "metadata": {},
   "source": [
    "#### The value of pi can be estimated using the following infinite series:\n",
    "#### pi/4 = 1 - 1/3 + 1/5 - 1/7 ... "
   ]
  },
  {
   "cell_type": "code",
   "execution_count": 1,
   "id": "9408a384",
   "metadata": {},
   "outputs": [],
   "source": [
    "import math"
   ]
  },
  {
   "cell_type": "markdown",
   "id": "0a44407b",
   "metadata": {},
   "source": [
    "#### 1) Write a Python function computePi4(numTerms) that computes this estimate up to iteration numTerms."
   ]
  },
  {
   "cell_type": "code",
   "execution_count": 2,
   "id": "f1ac12c1",
   "metadata": {},
   "outputs": [],
   "source": [
    "# define function computePi4 with numTerms as parameters\n",
    "def computePi4(numTerms):\n",
    "\n",
    "# create a list of add numbers and a empty list for results of iterations    \n",
    "    odd = list(range(1, numTerms * 2, 2))\n",
    "    result = []\n",
    "\n",
    "# create a for loop with the range of the list of odd numbers and add the results \n",
    "# of each iteration into the results list\n",
    "    for number in range(len(odd)):\n",
    "        result.append(((-1)**number)/odd[number])    \n",
    "\n",
    "# return the sum of all iterations\n",
    "    return(sum(result))\n"
   ]
  },
  {
   "cell_type": "code",
   "execution_count": 3,
   "id": "3a0541bc",
   "metadata": {},
   "outputs": [
    {
     "name": "stdout",
     "output_type": "stream",
     "text": [
      "0.7853731633975086\n"
     ]
    }
   ],
   "source": [
    "# print the result of the function for 10,000 iterations. \n",
    "print(computePi4(10000))"
   ]
  },
  {
   "cell_type": "code",
   "execution_count": 4,
   "id": "bf6c2058",
   "metadata": {},
   "outputs": [
    {
     "data": {
      "text/plain": [
       "0.7853981633975"
      ]
     },
     "execution_count": 4,
     "metadata": {},
     "output_type": "execute_result"
    }
   ],
   "source": [
    "# check against actual pi/4 value\n",
    "pi = 3.14159265359\n",
    "pi/4"
   ]
  },
  {
   "cell_type": "markdown",
   "id": "a935fe27",
   "metadata": {},
   "source": [
    "#### 2) Try the above using comprehension syntax . "
   ]
  },
  {
   "cell_type": "code",
   "execution_count": 5,
   "id": "ad2d98e6",
   "metadata": {},
   "outputs": [],
   "source": [
    "# define function computePi4_comp for comprehension syntax with numTerms as parameters\n",
    "def computePi4_comp(numTerms):\n",
    "    \n",
    "# create a list with odd numbers to be part of the function    \n",
    "    odd = list(range(1, numTerms * 2, 2))\n",
    "\n",
    "# create expression for number (list of all numbers) to iterate over a range of the length of odd numbers list    \n",
    "    pi4 = [(((-1)**number)/odd[number]) for number in range(len(odd))]\n",
    "    return(sum(pi4))"
   ]
  },
  {
   "cell_type": "code",
   "execution_count": 6,
   "id": "6095007f",
   "metadata": {},
   "outputs": [
    {
     "name": "stdout",
     "output_type": "stream",
     "text": [
      "0.7853731633975086\n"
     ]
    }
   ],
   "source": [
    "# print the result of the function for 10,000 iterations. \n",
    "print(computePi4_comp(10000))"
   ]
  },
  {
   "cell_type": "markdown",
   "id": "bd346785",
   "metadata": {},
   "source": [
    "#### 3) A sequence is a list of objects. Using numTerms as the maximum index into a sequence, one can use computePi4 to compute a sequence to estimate pi/4, where each new number in the sequence is an estimate of pi/4 that \"more closely\" approaches to the actual value. Write a generator function in Python that generates this sequence using a yield statement (for delayed evaluation).  This is similar to #1 except you will be using a yield statement. "
   ]
  },
  {
   "cell_type": "code",
   "execution_count": 7,
   "id": "4783e07c",
   "metadata": {},
   "outputs": [],
   "source": [
    "# define function computePi4 with numTerms as parameters\n",
    "def computePi4(numTerms):\n",
    "\n",
    "# create a list of add numbers and a empty list for results of iterations    \n",
    "    odd = list(range(1, numTerms * 2, 2))\n",
    "    results = []\n",
    "    pi4=0\n",
    "\n",
    "# create a for loop with the range of the list of odd numbers and add the results \n",
    "# of each iteration into the results list\n",
    "    for number in range(len(odd)):\n",
    "        results.append(((-1)**number)/odd[number])    \n",
    "        \n",
    "\n",
    "# create another for loop to print the yield\n",
    "    for i in range(len(results)):\n",
    "        pi4 = pi4+results[i]\n",
    "        \n",
    "        yield(pi4)"
   ]
  },
  {
   "cell_type": "code",
   "execution_count": 8,
   "id": "a65bfbfc",
   "metadata": {},
   "outputs": [
    {
     "name": "stdout",
     "output_type": "stream",
     "text": [
      "1.0\n",
      "0.6666666666666667\n",
      "0.8666666666666667\n",
      "0.7238095238095239\n",
      "0.8349206349206351\n",
      "0.7440115440115441\n",
      "0.8209346209346211\n",
      "0.7542679542679545\n",
      "0.8130914836797192\n",
      "0.7604599047323508\n"
     ]
    }
   ],
   "source": [
    "# Pringint each term created with each iteration (for the first 10 results).\n",
    "for i in computePi4(10):\n",
    "    print(i)"
   ]
  }
 ],
 "metadata": {
  "kernelspec": {
   "display_name": "Python 3 (ipykernel)",
   "language": "python",
   "name": "python3"
  },
  "language_info": {
   "codemirror_mode": {
    "name": "ipython",
    "version": 3
   },
   "file_extension": ".py",
   "mimetype": "text/x-python",
   "name": "python",
   "nbconvert_exporter": "python",
   "pygments_lexer": "ipython3",
   "version": "3.9.13"
  }
 },
 "nbformat": 4,
 "nbformat_minor": 5
}
