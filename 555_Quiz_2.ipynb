{
 "cells": [
  {
   "cell_type": "markdown",
   "id": "f598ec43",
   "metadata": {},
   "source": [
    "## QUIZ 2"
   ]
  },
  {
   "cell_type": "raw",
   "id": "85eb34e1",
   "metadata": {},
   "source": [
    "Student: Tereza Martinkova\n",
    "Class: ANLY 555\n",
    "Date: 2/12/23"
   ]
  },
  {
   "cell_type": "raw",
   "id": "38468611",
   "metadata": {},
   "source": [
    "Implement the following classes.\n",
    "\n",
    "Part 1.\n",
    "\n",
    "Implement a Class Definition for the following Class. Include a constructor that initializes all member variables and both \"getter\" and \"setter\" member methods for each attribute.\n",
    "\n",
    "Class:  Customer\n",
    "Member Variables:  __name, __age, __address, and __paymentMethod \n",
    "\n",
    "Part 2.\n",
    "\n",
    "Assume you are implementing a subclass named VIPcustomer from superclass Customer. Assume all members will be inherited; however, VIPcustomers have an additional member variable __vipID initialized by the constructor. Implement the class definition for class VIPcustomer -- take full advantage of inheritance but include all appropriate getters and setters. "
   ]
  },
  {
   "cell_type": "code",
   "execution_count": 3,
   "id": "841e2b20",
   "metadata": {},
   "outputs": [
    {
     "name": "stdout",
     "output_type": "stream",
     "text": [
      "Name: Tereza Martinkova\n",
      "Age: 24\n",
      "Address: Prague\n",
      "Payment Method: Venmo\n",
      "VIP ID: 888 \n",
      "\n",
      "\n",
      "Name: Ariana Grande\n",
      "Age: 29\n",
      "Address: Los Angeles\n",
      "Payment Method: Wire Transfer\n",
      "VIP ID: 111\n"
     ]
    }
   ],
   "source": [
    "# DEFINING THE CUSTOMER CLASS\n",
    "class Customer():\n",
    "    # implementing member variables\n",
    "    def __init__(self,name,age,address,paymentMethod):\n",
    "        # creating member variable name \n",
    "        self.name=name\n",
    "        # creating member variable age\n",
    "        self.age=age\n",
    "        # creating member variable address\n",
    "        self.address=address\n",
    "        # creating member variable paymentMethod\n",
    "        self.paymentMethod=paymentMethod\n",
    "        \n",
    "    # DEFINING SETTER AND GETTER FOR ALL MEMBER VARIABLES    \n",
    "    # defining the setter method for name\n",
    "    def setName(self,name):\n",
    "        self.name=name\n",
    "    # defining the getter method for name\n",
    "    def getName(self):\n",
    "        return self.name\n",
    "    # defining the setter method for age\n",
    "    def setAge(self,age):\n",
    "        self.age=age\n",
    "    # defining the getter method for age\n",
    "    def getAge(self):\n",
    "        return self.age\n",
    "    # defineing the setter method for address\n",
    "    def setAddress(self,address):\n",
    "        self.address=address\n",
    "    # defining the getter method for address\n",
    "    def getAdress(self):\n",
    "        return self.address\n",
    "    # defining the setter method for paymentMethod\n",
    "    def setPaymentMethod(self,paymentMethod):\n",
    "        self.paymentMethod=paymentMethod\n",
    "    # defining the getter method for paymentMethod\n",
    "    def getPaymentMethod(self):\n",
    "        return self.paymentMethod\n",
    "\n",
    "#DEFINING THE VIP CUSTOMER CLASS\n",
    "class VIPCustomer(Customer):\n",
    "    # definING the __init__ method\n",
    "    def __init__(self,name,age,address,paymentMethod,vipID):\n",
    "        # implementing all parameters from the customer class\n",
    "        super().__init__(name,age,address,paymentMethod)\n",
    "        # defining a new member variable vipID\n",
    "        self.vipID=vipID\n",
    "    # defining the setter method for vipID\n",
    "    def setVipId(self,vipID):\n",
    "        self.vipID=vipID\n",
    "    # defining the getter method for vipID\n",
    "    def getVipId(self):\n",
    "        return self.vipID\n",
    "        \n",
    "        \n",
    "# creating an input variables for the VIPCustomer class\n",
    "customer_input1 = VIPCustomer(\"Tereza Martinkova\",24,\"Prague\",\"Venmo\",888)\n",
    "\n",
    "# checking that the subclass returns all appropriate inputs\n",
    "print(\"Name:\",customer_input1.getName())\n",
    "print(\"Age:\",customer_input1.getAge())\n",
    "print(\"Address:\",customer_input1.getAdress())\n",
    "print(\"Payment Method:\",customer_input1.getPaymentMethod())\n",
    "print(\"VIP ID:\",customer_input1.getVipId(),'\\n\\n')\n",
    "\n",
    "# creating an input variables for the VIPCustomer class\n",
    "customer_input2 = VIPCustomer(\"Ariana Grande\",29,\"Los Angeles\",\"Wire Transfer\",111)\n",
    "\n",
    "# checking that the subclass returns all appropriate inputs\n",
    "print(\"Name:\",customer_input2.getName())\n",
    "print(\"Age:\",customer_input2.getAge())\n",
    "print(\"Address:\",customer_input2.getAdress())\n",
    "print(\"Payment Method:\",customer_input2.getPaymentMethod())\n",
    "print(\"VIP ID:\",customer_input2.getVipId(),'\\n\\n')"
   ]
  }
 ],
 "metadata": {
  "kernelspec": {
   "display_name": "Python 3 (ipykernel)",
   "language": "python",
   "name": "python3"
  },
  "language_info": {
   "codemirror_mode": {
    "name": "ipython",
    "version": 3
   },
   "file_extension": ".py",
   "mimetype": "text/x-python",
   "name": "python",
   "nbconvert_exporter": "python",
   "pygments_lexer": "ipython3",
   "version": "3.9.13"
  }
 },
 "nbformat": 4,
 "nbformat_minor": 5
}
