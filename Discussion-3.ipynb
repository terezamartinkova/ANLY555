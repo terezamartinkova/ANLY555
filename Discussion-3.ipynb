{
 "cells": [
  {
   "cell_type": "markdown",
   "id": "163013f7",
   "metadata": {},
   "source": [
    "### Discussion 3"
   ]
  },
  {
   "cell_type": "raw",
   "id": "747cea05",
   "metadata": {},
   "source": [
    "Student: Tereza Martinkova\n",
    "Class: ANLY 555-01\n",
    "Date: Feb 17, 2023"
   ]
  },
  {
   "cell_type": "raw",
   "id": "0eeb5d52",
   "metadata": {},
   "source": [
    "Consider the following. You are tasked with design the most efficient algorithm to complete the following task. Implement a function findMedian(n) that\n",
    "\n",
    "randomly generates n floating point values between 0 and 100. (Feel free to use random library)\n",
    "compute and return the median value. Do not use a pre-existing median function or sorting function, but instead code it \"from scratch\". I encourage you to think about this design individually without the use of internet resources. That is one of the main goals of this exercise -- translate your sequence of steps needed to compute the median to Python code! Hint: First consider what steps you would take to find the median yourself. Next, write down these steps. Finally, translate these steps into Python Code. \n",
    "\n",
    "Consider both time complexity and space complexity.\n",
    "\n",
    "Implement the above algorithm in Pseudo-code or Python code. Please code from \"scratch\" -- do not use others code.\n",
    "Assuming n is the length of the randomly generated values, derive a Step Count Function T(n) and Space Count Function S(n).\n",
    "Do this for both the best case and the worst case. Explain your counts line-by-line.\n",
    "Determine a tight-fit upperbound using Big-O notation. \n",
    "Explain and justify why you believe this is an efficient solution\n",
    "Respond to your peers and provide feedback"
   ]
  },
  {
   "cell_type": "code",
   "execution_count": 1,
   "id": "1860cba9",
   "metadata": {},
   "outputs": [],
   "source": [
    "import random"
   ]
  },
  {
   "cell_type": "code",
   "execution_count": 56,
   "id": "d8f18c6e",
   "metadata": {},
   "outputs": [],
   "source": [
    "# define the function findMedian() that intakes n as the length of the \n",
    "# original array being generated\n",
    "def findMedian(n):\n",
    "    # create an empty list where we can store the randomly generated numbers\n",
    "    results = []\n",
    "    # create another empty list where we can store the sorted array\n",
    "    new_results = []\n",
    "    # generated n number of random numbers between 0 and 100, with step 0.1\n",
    "    for i in range(n):\n",
    "        # append the generated numbers to the results list\n",
    "        results.append(round(random.uniform(0.0,100.0),2))\n",
    "        #print the originally genereated list \n",
    "        print(results)\n",
    "     \n",
    "     \n",
    "    while results:\n",
    "        # assign the first number in the list to be the minimum\n",
    "        minimum = results[0]\n",
    "        # itterate over the rest of the list\n",
    "        for n in results:\n",
    "            # if a number is found that is smaller than the current minimum\n",
    "            # that number becomes the new minimum\n",
    "            if n < minimum:\n",
    "                minimum = n\n",
    "        # append this new minimum to the new_results list\n",
    "        new_results.append(minimum)\n",
    "        # remove the same number from the results list\n",
    "        results.remove(minimum)\n",
    "        # pritn the sorted list of the original list\n",
    "        print(new_results)\n",
    "    \n",
    "    # find the position of the middle number in the new_results list\n",
    "    middle = len(new_results)//2\n",
    "    # find the two numbers considered the middle and devide them by to\n",
    "    med = (new_results[middle] + new_results[~middle])/2\n",
    "\n",
    "    # return the median value od the randomly generated numbers\n",
    "    return(med)"
   ]
  },
  {
   "cell_type": "code",
   "execution_count": 57,
   "id": "a2ecefb8",
   "metadata": {},
   "outputs": [
    {
     "name": "stdout",
     "output_type": "stream",
     "text": [
      "[69.2]\n",
      "[69.2, 79.67]\n",
      "[69.2, 79.67, 92.18]\n",
      "[69.2, 79.67, 92.18, 13.35]\n",
      "[69.2, 79.67, 92.18, 13.35, 93.64]\n",
      "[69.2, 79.67, 92.18, 13.35, 93.64, 52.33]\n",
      "[69.2, 79.67, 92.18, 13.35, 93.64, 52.33, 9.68]\n",
      "[69.2, 79.67, 92.18, 13.35, 93.64, 52.33, 9.68, 93.54]\n",
      "[69.2, 79.67, 92.18, 13.35, 93.64, 52.33, 9.68, 93.54, 30.82]\n",
      "[69.2, 79.67, 92.18, 13.35, 93.64, 52.33, 9.68, 93.54, 30.82, 82.76]\n",
      "[9.68]\n",
      "[9.68, 13.35]\n",
      "[9.68, 13.35, 30.82]\n",
      "[9.68, 13.35, 30.82, 52.33]\n",
      "[9.68, 13.35, 30.82, 52.33, 69.2]\n",
      "[9.68, 13.35, 30.82, 52.33, 69.2, 79.67]\n",
      "[9.68, 13.35, 30.82, 52.33, 69.2, 79.67, 82.76]\n",
      "[9.68, 13.35, 30.82, 52.33, 69.2, 79.67, 82.76, 92.18]\n",
      "[9.68, 13.35, 30.82, 52.33, 69.2, 79.67, 82.76, 92.18, 93.54]\n",
      "[9.68, 13.35, 30.82, 52.33, 69.2, 79.67, 82.76, 92.18, 93.54, 93.64]\n"
     ]
    },
    {
     "data": {
      "text/plain": [
       "74.435"
      ]
     },
     "execution_count": 57,
     "metadata": {},
     "output_type": "execute_result"
    }
   ],
   "source": [
    "# print the findMedian function for 10 randomly generated numbers\n",
    "findMedian(10)"
   ]
  },
  {
   "cell_type": "code",
   "execution_count": null,
   "id": "6d1ed8d5",
   "metadata": {},
   "outputs": [],
   "source": [
    "Worst Case\n",
    "function findMedian(X,n)\n",
    "    Y <- initialize array of lenth n                     1\n",
    "    for i <- 1 to n                                      1+n                         \n",
    "        currentMinimum <- i                              n\n",
    "        for j <- 1 to n do                               n+1+x\n",
    "            if X[j] < X[currentMinimum] then             3x\n",
    "            currentMinimum <- j                          x\n",
    "        Y[i] <- X[currentMinimum]                        2n\n",
    "        X[currentMinimum] <- INF                         2n\n",
    "        return Y                                         1"
   ]
  },
  {
   "cell_type": "code",
   "execution_count": null,
   "id": "77091506",
   "metadata": {},
   "outputs": [],
   "source": [
    "1+1+n+n+n+1+x+3x+x+2n+2n+1 = 5x+7n+4\n",
    "\n",
    "x = 1+2_3....+(n-1)   -> x = n(n-1)/2\n",
    "\n",
    "T(n) = (5n^2-5n)/2+7n+4\n",
    "T(n) = O(n^2)"
   ]
  },
  {
   "cell_type": "code",
   "execution_count": null,
   "id": "3da877eb",
   "metadata": {},
   "outputs": [],
   "source": [
    "Best Case\n",
    "function findMedian(X,n)\n",
    "    for i <- 1 to n                                      1+n                         \n",
    "        currentMinimum <- i                              n\n",
    "        for j <- i+1 to n do                             n+1+x\n",
    "            if X[j] < X[currentMinimum] then             3x\n",
    "            currentMinimum <- j                          x\n",
    "        swap(X[i],X[currentMinimum])                     1"
   ]
  },
  {
   "cell_type": "code",
   "execution_count": null,
   "id": "2127074b",
   "metadata": {},
   "outputs": [],
   "source": [
    "1+1+n+n+n+1+x+3x+x+1 = 5x+3n+4\n",
    "\n",
    "x = 1+2_3....+(n-1)   -> x = n(n-1)/2\n",
    "\n",
    "T(n) = (5n^2-5n)/2+3n+4\n",
    "T(n) = O(n^2)"
   ]
  },
  {
   "cell_type": "code",
   "execution_count": null,
   "id": "3b02ec7c",
   "metadata": {},
   "outputs": [],
   "source": [
    "Upper bound = (5n^2-5n)/2+3n+4 = O(n^2)"
   ]
  },
  {
   "attachments": {},
   "cell_type": "markdown",
   "id": "e0b7117c",
   "metadata": {},
   "source": [
    "#The best case scenario is better because we can achieve the same result with a smaller number of steps as well as increase time efficency by changing j from i to i+1."
   ]
  }
 ],
 "metadata": {
  "kernelspec": {
   "display_name": "Python 3 (ipykernel)",
   "language": "python",
   "name": "python3"
  },
  "language_info": {
   "codemirror_mode": {
    "name": "ipython",
    "version": 3
   },
   "file_extension": ".py",
   "mimetype": "text/x-python",
   "name": "python",
   "nbconvert_exporter": "python",
   "pygments_lexer": "ipython3",
   "version": "3.9.13"
  }
 },
 "nbformat": 4,
 "nbformat_minor": 5
}
